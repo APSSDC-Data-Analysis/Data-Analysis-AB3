{
 "cells": [
  {
   "cell_type": "markdown",
   "metadata": {},
   "source": [
    "# Data analysis using Pandas\n",
    "* Data series\n",
    "* File I/O\n",
    "* Indexing \n",
    "* Grouping  \n",
    "* Features  \n",
    "* Filtering  \n",
    "* Sorting  \n",
    "* Statistical  \n",
    "* Plotting  \n",
    "* Saving"
   ]
  },
  {
   "cell_type": "code",
   "execution_count": null,
   "metadata": {},
   "outputs": [],
   "source": [
    "pd.read_excel(\"https://raw.githubusercontent.com/APSSDC-Data-Analysis/Data-Analysis-B3-Afternoon/master/D4_Pandas(27Aug2020)/B3_List.xlsx\")"
   ]
  },
  {
   "cell_type": "code",
   "execution_count": null,
   "metadata": {},
   "outputs": [],
   "source": []
  }
 ],
 "metadata": {
  "kernelspec": {
   "display_name": "Python 3",
   "language": "python",
   "name": "python3"
  },
  "language_info": {
   "codemirror_mode": {
    "name": "ipython",
    "version": 3
   },
   "file_extension": ".py",
   "mimetype": "text/x-python",
   "name": "python",
   "nbconvert_exporter": "python",
   "pygments_lexer": "ipython3",
   "version": "3.8.3"
  }
 },
 "nbformat": 4,
 "nbformat_minor": 4
}
